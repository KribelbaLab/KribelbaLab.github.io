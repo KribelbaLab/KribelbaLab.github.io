{
 "cells": [
  {
   "cell_type": "code",
   "execution_count": 1,
   "metadata": {},
   "outputs": [
    {
     "name": "stderr",
     "output_type": "stream",
     "text": [
      "/var/folders/7b/rl6lkdns1dbfv_n3wwwmq8580000gn/T/ipykernel_12996/975988225.py:6: DeprecationWarning: ANTIALIAS is deprecated and will be removed in Pillow 10 (2023-07-01). Use Resampling.LANCZOS instead.\n",
      "  img = img.resize((32, 32), Image.ANTIALIAS)\n"
     ]
    }
   ],
   "source": [
    "from PIL import Image\n",
    "\n",
    "# Open an image file\n",
    "img = Image.open('apple-touch-icon.png')\n",
    "# Resize it to the required size (for example, 16x16 pixels)\n",
    "img = img.resize((32, 32), Image.ANTIALIAS)\n",
    "# Save it as an .ico file\n",
    "\n",
    "img.save('favicon.ico', 'ICO')"
   ]
  },
  {
   "cell_type": "code",
   "execution_count": 2,
   "metadata": {},
   "outputs": [
    {
     "name": "stderr",
     "output_type": "stream",
     "text": [
      "/var/folders/7b/rl6lkdns1dbfv_n3wwwmq8580000gn/T/ipykernel_12996/3409265206.py:4: DeprecationWarning: ANTIALIAS is deprecated and will be removed in Pillow 10 (2023-07-01). Use Resampling.LANCZOS instead.\n",
      "  img = img.resize((32, 32), Image.ANTIALIAS)\n"
     ]
    }
   ],
   "source": [
    "# Open an image file\n",
    "img = Image.open('apple-touch-icon.png')\n",
    "# Resize it to the required size (for example, 16x16 pixels)\n",
    "img = img.resize((32, 32), Image.ANTIALIAS)\n",
    "# Save it as an .ico file\n",
    "\n",
    "img.save('favicon-32x32.png', 'PNG')"
   ]
  },
  {
   "cell_type": "code",
   "execution_count": 3,
   "metadata": {},
   "outputs": [
    {
     "name": "stderr",
     "output_type": "stream",
     "text": [
      "/var/folders/7b/rl6lkdns1dbfv_n3wwwmq8580000gn/T/ipykernel_12996/241115558.py:4: DeprecationWarning: ANTIALIAS is deprecated and will be removed in Pillow 10 (2023-07-01). Use Resampling.LANCZOS instead.\n",
      "  img = img.resize((16, 16), Image.ANTIALIAS)\n"
     ]
    }
   ],
   "source": [
    "# Open an image file\n",
    "img = Image.open('apple-touch-icon.png')\n",
    "# Resize it to the required size (for example, 16x16 pixels)\n",
    "img = img.resize((16, 16), Image.ANTIALIAS)\n",
    "# Save it as an .ico file\n",
    "\n",
    "img.save('favicon-16x16.png', 'PNG')"
   ]
  },
  {
   "cell_type": "code",
   "execution_count": null,
   "metadata": {},
   "outputs": [],
   "source": []
  }
 ],
 "metadata": {
  "kernelspec": {
   "display_name": "env_intel_sdb",
   "language": "python",
   "name": "python3"
  },
  "language_info": {
   "codemirror_mode": {
    "name": "ipython",
    "version": 3
   },
   "file_extension": ".py",
   "mimetype": "text/x-python",
   "name": "python",
   "nbconvert_exporter": "python",
   "pygments_lexer": "ipython3",
   "version": "3.10.9"
  }
 },
 "nbformat": 4,
 "nbformat_minor": 2
}
